{
 "cells": [
  {
   "cell_type": "code",
   "execution_count": 11,
   "metadata": {},
   "outputs": [
    {
     "name": "stdout",
     "output_type": "stream",
     "text": [
      "435.0\n"
     ]
    },
    {
     "data": {
      "text/plain": [
       "244"
      ]
     },
     "execution_count": 11,
     "metadata": {},
     "output_type": "execute_result"
    }
   ],
   "source": [
    "# -*- coding: utf-8 -*-\n",
    "\n",
    "###############################################################################\n",
    "# \"Housing data (cleaning)\" example\n",
    "###############################################################################\n",
    "#  Objectives:\n",
    "#   Doing pandas dataframe manipulation to clean and create a categorical\n",
    "#       variable encoding.\n",
    "#  Sources:\n",
    "#   https://github.com/ageron/handson-ml/blob/master/02_end_to_end_machine_learning_project.ipynb\n",
    "#   https://github.com/ageron/handson-ml/tree/master/datasets/housing\n",
    "#   https://pandas.pydata.org/pandas-docs/stable/reference/api/\n",
    "#   https://pandas.pydata.org/pandas-docs/stable/user_guide/visualization.html\n",
    "#   https://matplotlib.org/tutorials/colors/colormaps.html\n",
    "#   http://contrib.scikit-learn.org/categorical-encoding/\n",
    "#   https://pandas.pydata.org/pandas-docs/stable/reference/api/pandas.DataFrame.isna.html\n",
    "#   https://pandas.pydata.org/pandas-docs/stable/reference/api/pandas.DataFrame.dropna.html\n",
    "#   https://pandas.pydata.org/pandas-docs/stable/reference/api/pandas.DataFrame.drop.html\n",
    "#   https://scikit-learn.org/stable/modules/generated/sklearn.impute.SimpleImputer.html\n",
    "#   https://scikit-learn.org/stable/modules/impute.html\n",
    "###############################################################################\n",
    "\n",
    "\n",
    "# %%%%%%%%%%%%%%%%%%%%%%%%%%%%%%%%%%%%%%%%%%%%%%%%%%%%%%%%%%%%%%%%%%%%%%%%%%%%%\n",
    "# Import required libraries\n",
    "import matplotlib as plt\n",
    "# import matplotlib.pyplot as plt\n",
    "import pandas as pd\n",
    "from sklearn.impute import SimpleImputer\n",
    "from sklearn.preprocessing import OneHotEncoder\n",
    "#%matplotlib inline\n",
    "\n",
    "# %%%%%%%%%%%%%%%%%%%%%%%%%%%%%%%%%%%%%%%%%%%%%%%%%%%%%%%%%%%%%%%%%%%%%%%%%%%%%\n",
    "# Setup data path and read data\n",
    "# con un . lo busca ne este directorio, con 2 .. en el de arriba\n",
    "DATA_PATH = \"../data/extracted/housing/\"\n",
    "DATA_FILE = \"housing.csv\"\n",
    "FULL_PATH = DATA_PATH + DATA_FILE\n",
    "data = pd.read_csv(FULL_PATH)\n",
    "data.head()\n",
    "# %%%%%%%%%%%%%%%%%%%%%%%%%%%%%%%%%%%%%%%%%%%%%%%%%%%%%%%%%%%%%%%%%%%%%%%%%%%%%\n",
    "# Get information about our dataframe\n",
    "data.isna()\n",
    "data.isna().sum()\n",
    "data[\"total_bedrooms\"].isna()\n",
    "data[\"total_bedrooms\"].isna().sum()\n",
    "#Droping NA's\n",
    "#dopna, borra los registros que tengan algúna columna vacía (na)\n",
    "#data.dropna(subset=[\"total_bedrooms\"],inplace=True)\n",
    "#Drops rows with NA entries axis=1 se refiere a la columna\n",
    "#data.drop(\"total_bedrooms\", axis=1,inplace=True)\n",
    "#data[\"total_bedrooms\"]\n",
    "# %%%%%%%%%%%%%%%%%%%%%%%%%%%%%%%%%%%%%%%%%%%%%%%%%%%%%%%%%%%%%%%%%%%%%%%%%%%%%\n",
    "# Imputing data\n",
    "#media coul be replaced with any other operation value (min,max,mean,etc)\n",
    "median = data[\"total_bedrooms\"].median()\n",
    "print(median)\n",
    "# Llena los NA con la mediana previamente calculada, False es para tomar el data_set original\n",
    "data[\"total_bedrooms\"].fillna(median, inplace=False)\n",
    "#Contar las celas que quedron con el valor de la mediana\n",
    "sum(data[\"total_bedrooms\"]==median)\n",
    "# Create Imputer Object\n",
    "imputer = SimpleImputer(strategy=\"median\")\n",
    "# Create a dataframe without the categorical column\n",
    "housingNum = data.drop(\"ocean_proximity\", axis=1)\n",
    "# Fit the imputer to the new dataframe\n",
    "imputer.fit(housingNum)\n",
    "imputer.statistics_\n",
    "housingNum.median().values\n"
   ]
  }
 ],
 "metadata": {
  "kernelspec": {
   "display_name": "Python 3",
   "language": "python",
   "name": "python3"
  },
  "language_info": {
   "codemirror_mode": {
    "name": "ipython",
    "version": 3
   },
   "file_extension": ".py",
   "mimetype": "text/x-python",
   "name": "python",
   "nbconvert_exporter": "python",
   "pygments_lexer": "ipython3",
   "version": "3.7.3"
  }
 },
 "nbformat": 4,
 "nbformat_minor": 2
}
