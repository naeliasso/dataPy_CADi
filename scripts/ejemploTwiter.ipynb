{
 "cells": [
  {
   "cell_type": "code",
   "execution_count": null,
   "metadata": {},
   "outputs": [],
   "source": [
    "# -*- coding: utf-8 -*-\n",
    "\n",
    "###############################################################################\n",
    "# \"Twitter Tools\" example\n",
    "###############################################################################\n",
    "#  Objectives:\n",
    "#   Using tweepy to parse twitter tags\n",
    "#  Source:\n",
    "#   https://mike.verdone.ca/twitter/\n",
    "#   https://developer.twitter.com/en/docs/trends/trends-for-location/api-reference/get-trends-place.html\n",
    "#   https://en.wikipedia.org/wiki/WOEID\n",
    "###############################################################################\n",
    "# IMPORTANT!\n",
    "#   Create a file called \"twitterCredentials.py\" and fill it out with the\n",
    "#       following information:\n",
    "#\n",
    "# access_token =\n",
    "# access_token_secret =\n",
    "# consumer_key =\n",
    "# consumer_secret =\n",
    "###############################################################################\n",
    "\n",
    "###############################################################################\n",
    "# Import libraries\n",
    "from twitter import *\n",
    "import twitter\n",
    "import json\n",
    "import yweather\n",
    "import nltk\n",
    "from collections import Counter\n",
    "\n",
    "# Authorizing the package in twitters API\n",
    "from twitterCredentials import *\n",
    "\n",
    "auth = twitter.oauth.OAuth(\n",
    "    access_token, access_token_secret,\n",
    "    consumer_key, consumer_secret\n",
    ")\n",
    "\n",
    "# Initializing an API session\n",
    "twitter_api = twitter.Twitter(auth=auth)\n",
    "print(twitter_api)\n"
   ]
  }
 ],
 "metadata": {
  "kernelspec": {
   "display_name": "Python [conda env:.conda-Prueba] *",
   "language": "python",
   "name": "conda-env-.conda-Prueba-py"
  },
  "language_info": {
   "codemirror_mode": {
    "name": "ipython",
    "version": 3
   },
   "file_extension": ".py",
   "mimetype": "text/x-python",
   "name": "python",
   "nbconvert_exporter": "python",
   "pygments_lexer": "ipython3",
   "version": "3.7.3"
  }
 },
 "nbformat": 4,
 "nbformat_minor": 2
}
